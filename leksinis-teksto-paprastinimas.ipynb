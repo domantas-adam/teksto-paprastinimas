{
  "nbformat": 4,
  "nbformat_minor": 0,
  "metadata": {
    "colab": {
      "provenance": []
    },
    "kernelspec": {
      "name": "python3",
      "display_name": "Python 3"
    },
    "language_info": {
      "name": "python"
    }
  },
  "cells": [
    {
      "cell_type": "code",
      "source": [
        "!pip install transformers\n",
        "!pip install torch\n",
        "!pip install wordfreq"
      ],
      "metadata": {
        "id": "xjDYU1N05pkQ"
      },
      "execution_count": null,
      "outputs": []
    },
    {
      "cell_type": "code",
      "source": [
        "import pandas as pd\n",
        "import torch\n",
        "from transformers import AutoTokenizer, AutoModelForMaskedLM\n",
        "from wordfreq import zipf_frequency\n",
        "import re\n",
        "\n",
        "model_name = \"bert-base-multilingual-cased\"\n",
        "tokenizer = AutoTokenizer.from_pretrained(model_name)\n",
        "model = AutoModelForMaskedLM.from_pretrained(model_name)\n",
        "model.eval()"
      ],
      "metadata": {
        "id": "bI6ZDJAA5rtU"
      },
      "execution_count": null,
      "outputs": []
    },
    {
      "cell_type": "markdown",
      "source": [
        "Sinonimų ir A1-A2 žodžių sarašas:"
      ],
      "metadata": {
        "id": "gkw2xFir6wIH"
      }
    },
    {
      "cell_type": "code",
      "source": [
        "synonym_dict = {}\n",
        "with open(\"/content/sinonimai_pataisytas.txt\", \"r\") as file:\n",
        "    for line in file:\n",
        "        parts = line.strip().split(\";\")\n",
        "        word = parts[0].strip()\n",
        "        synonyms = parts[1:]\n",
        "        synonym_dict[word] = synonyms\n",
        "common_words_df = pd.read_excel(\"/content/dazniausi_zodziai.xlsx\")\n",
        "common_words_list = common_words_df[\"word\"].tolist()"
      ],
      "metadata": {
        "id": "IEkltinD6AM0"
      },
      "execution_count": null,
      "outputs": []
    },
    {
      "cell_type": "markdown",
      "source": [
        "Sudėtingas sakinys:"
      ],
      "metadata": {
        "id": "KyFKsx9-60qG"
      }
    },
    {
      "cell_type": "code",
      "source": [
        "list_texts = [\n",
        "    'Išmoka gimus vienu metu daugiau kaip vienam vaikui skiriama. Ji mokama vadovaujantis Lietuvos Respublikos išmokų vaikams įstatymu.'\n",
        "]\n"
      ],
      "metadata": {
        "id": "AUk55cO_6Km8"
      },
      "execution_count": null,
      "outputs": []
    },
    {
      "cell_type": "code",
      "source": [
        "def get_bert_candidates(input_text, synonym_dict, tokenizer, model, numb_predictions_displayed=10):\n",
        "    list_candidates = []\n",
        "    for word in input_text.split():\n",
        "        if word not in common_words_list:\n",
        "            if word in synonym_dict:\n",
        "                synonyms = synonym_dict[word]\n",
        "                list_candidates.append((word, synonyms))\n",
        "        else:\n",
        "            replace_word_mask = input_text.replace(word, '[MASK]')\n",
        "            text = f'[CLS]{replace_word_mask} [SEP] {input_text} [SEP] '\n",
        "            tokenized_text = tokenizer.tokenize(text)\n",
        "            masked_index = [i for i, x in enumerate(tokenized_text) if x == '[MASK]'][0]\n",
        "            indexed_tokens = tokenizer.convert_tokens_to_ids(tokenized_text)\n",
        "            segments_ids = [0] * len(tokenized_text)\n",
        "            tokens_tensor = torch.tensor([indexed_tokens])\n",
        "            segments_tensors = torch.tensor([segments_ids])\n",
        "\n",
        "            with torch.no_grad():\n",
        "                outputs = model(tokens_tensor, token_type_ids=segments_tensors)\n",
        "                predictions = outputs[0][0][masked_index]\n",
        "            predicted_ids = torch.argsort(predictions, descending=True)[:numb_predictions_displayed]\n",
        "            predicted_tokens = tokenizer.convert_ids_to_tokens(list(predicted_ids))\n",
        "            list_candidates.append((word, predicted_tokens))\n",
        "    return list_candidates\n"
      ],
      "metadata": {
        "id": "sL4bkHKf6JXw"
      },
      "execution_count": null,
      "outputs": []
    },
    {
      "cell_type": "markdown",
      "source": [
        "Atsakymas:"
      ],
      "metadata": {
        "id": "rf2kxkA77PYp"
      }
    },
    {
      "cell_type": "code",
      "execution_count": null,
      "metadata": {
        "colab": {
          "base_uri": "https://localhost:8080/"
        },
        "id": "etpdEN0L5hEs",
        "outputId": "f17f81a4-4428-49c4-a468-75d492f64184"
      },
      "outputs": [
        {
          "output_type": "stream",
          "name": "stdout",
          "text": [
            "Kandidatai Išmoka : []\n",
            "Kandidatai gimus : []\n",
            "Kandidatai vaikui : [('vaikui', ['kūdikiui'])]\n",
            "Keistinas žodis: vaikui\n",
            "Kandidatų sarašas: ['kūdikiui']\n",
            "Atrinkti kandidatai: ['kūdikiui']\n",
            "Kandidatai skiriama. : []\n",
            "Kandidatai Ji : []\n",
            "Kandidatai mokama : [('mokama', ['duodama'])]\n",
            "Keistinas žodis: mokama\n",
            "Kandidatų sarašas: ['duodama']\n",
            "Atrinkti kandidatai: ['duodama']\n",
            "Kandidatai vadovaujantis : [('vadovaujantis', ['vadovausiantis', 'besivadovaujantis', 'vadovaudavęs', 'remiantis'])]\n",
            "Keistinas žodis: vadovaujantis\n",
            "Kandidatų sarašas: ['vadovausiantis', 'besivadovaujantis', 'vadovaudavęs', 'remiantis']\n",
            "Atrinkti kandidatai: ['remiantis', 'vadovausiantis', 'besivadovaujantis', 'vadovaudavęs']\n",
            "Kandidatai Respublikos : []\n",
            "Kandidatai išmokų : [('išmokų', ['kompensacijų', 'pašalpų'])]\n",
            "Keistinas žodis: išmokų\n",
            "Kandidatų sarašas: ['kompensacijų', 'pašalpų']\n",
            "Atrinkti kandidatai: ['kompensacijų', 'pašalpų']\n",
            "Kandidatai įstatymu. : []\n",
            "Originalus sakinys:  Išmoka gimus vienu metu daugiau kaip vienam vaikui skiriama. Ji mokama vadovaujantis Lietuvos Respublikos išmokų vaikams įstatymu.\n",
            "Supaprastintas sakinys: Išmoka gimus vienu metu daugiau kaip vienam kūdikiui skiriama. Ji duodama remiantis Lietuvos Respublikos kompensacijų vaikams įstatymu. \n",
            "\n"
          ]
        }
      ],
      "source": [
        "for input_text in list_texts:\n",
        "    new_text = input_text\n",
        "    for word in input_text.split():\n",
        "        if word not in common_words_list:\n",
        "            bert_candidates = get_bert_candidates(word, synonym_dict, tokenizer, model)\n",
        "            print(\"Kandidatai\", word, \":\", bert_candidates)  # Kandidatai\n",
        "            for word_to_replace, l_candidates in bert_candidates:\n",
        "                print(\"Keistinas žodis:\", word_to_replace)  # Pakeičiamas žodis\n",
        "                print(\"Kandidatų sarašas:\", l_candidates)  # Kandidatų sarašas\n",
        "\n",
        "                tuples_word_zipf = sorted(l_candidates, key=lambda x: zipf_frequency(x, 'lt'), reverse=True)\n",
        "                print(\"Atrinkti kandidatai:\", tuples_word_zipf)  # Atrinkti kandidatai\n",
        "                new_text = re.sub(word_to_replace, tuples_word_zipf[0], new_text)\n",
        "    print(\"Originalus sakinys: \", input_text)\n",
        "    print(\"Supaprastintas sakinys:\", new_text, \"\\n\")"
      ]
    }
  ]
}